{
 "cells": [
  {
   "cell_type": "code",
   "execution_count": 15,
   "id": "5df76599",
   "metadata": {},
   "outputs": [],
   "source": [
    "import os, sys\n",
    "from glob import glob\n",
    "from os.path import join\n",
    "\n",
    "import pandas as pd\n",
    "import numpy as np\n",
    "import matplotlib.pyplot as plt\n",
    "import seaborn as sns\n",
    "sns.set(color_codes=False)\n",
    "import json\n",
    "from tqdm.notebook import tqdm\n",
    "from ukbb2020_dataloader import UKBB2020\n",
    "\n",
    "sys.path.insert(0, \"../../helper/\")\n",
    "from plotGraphs import *"
   ]
  },
  {
   "cell_type": "code",
   "execution_count": 16,
   "id": "9768a9c7",
   "metadata": {},
   "outputs": [
    {
     "name": "stdout",
     "output_type": "stream",
     "text": [
      "total subjects in df: 40682\n"
     ]
    }
   ],
   "source": [
    "dataset = UKBB2020()"
   ]
  },
  {
   "cell_type": "code",
   "execution_count": 17,
   "id": "0a53359e",
   "metadata": {},
   "outputs": [
    {
     "data": {
      "text/html": [
       "<style>\n",
       "  table {margin-left: 0 !important;}\n",
       "</style>\n"
      ],
      "text/plain": [
       "<IPython.core.display.HTML object>"
      ]
     },
     "metadata": {},
     "output_type": "display_data"
    }
   ],
   "source": [
    "%%html\n",
    "<style>\n",
    "  table {margin-left: 0 !important;}\n",
    "</style>"
   ]
  },
  {
   "cell_type": "code",
   "execution_count": 24,
   "id": "46f948a2",
   "metadata": {},
   "outputs": [
    {
     "name": "stdout",
     "output_type": "stream",
     "text": [
      "loaded following columns:\n",
      " {'31-0.0': 'Sex (s0.0)', '54-2.0': 'UK Biobank assessment centre', '21003-2.0': 'Age when attended assessment centre', '26521-2.0': 'Volume of EstimatedTotalIntraCranial (whole brain)', '20021-2.0': 'Speech-reception-threshold (SRT) estimate (right)', '1558-2.0': 'Alcohol intake frequency.', '25061-2.0': 'Mean FA in fornix on FA skeleton'}\n",
      "skipping 30593/40682 subjects not belonging to holdout split\n"
     ]
    }
   ],
   "source": [
    "df = dataset.get_metadata(predefined=[], cols = [\"31-0.0\", #sex\n",
    "                                                '54-2.0', #assestment center#\n",
    "                                                 '21003-2.0', #age\n",
    "                                                 '26521-2.0', #total brain volume\n",
    "                                                 '54-2.0', #assestment center\n",
    "                                                 \"20021-2.0\",#SRT estimate right ear\n",
    "                                                 \"1558-2.0\",#Alc int freq\n",
    "                                                 \"25061-2.0\", #Mean FA in fornix on FA skeleton\n",
    "                                                ],split='holdout', rename_cols=False)  "
   ]
  },
  {
   "cell_type": "code",
   "execution_count": 25,
   "id": "e828506e-f4e0-4741-bc0c-1280fbb63f78",
   "metadata": {},
   "outputs": [
    {
     "data": {
      "text/plain": [
       "11027.0    10089\n",
       "Name: 54-2.0, dtype: int64"
      ]
     },
     "execution_count": 25,
     "metadata": {},
     "output_type": "execute_result"
    }
   ],
   "source": [
    "df['54-2.0'].value_counts()"
   ]
  },
  {
   "cell_type": "code",
   "execution_count": 33,
   "id": "2718fd42",
   "metadata": {},
   "outputs": [],
   "source": [
    "#Adds an icd label as a column\n",
    "dficd = dataset.get_metadata(predefined=['icd'], cols=[], print_cols=False, split='all', rename_cols=False)\n",
    "dfmooddis = dficd.apply(lambda row: row.astype(str).str.contains('F3').any(), axis=1)\n",
    "df['mood_disorder'] = dfmooddis"
   ]
  },
  {
   "cell_type": "code",
   "execution_count": 34,
   "id": "5f59d4c6",
   "metadata": {},
   "outputs": [],
   "source": [
    "df[\"mood_disorder\"] = df[\"mood_disorder\"].astype(float)"
   ]
  },
  {
   "cell_type": "code",
   "execution_count": 35,
   "id": "71cc9dc2",
   "metadata": {},
   "outputs": [],
   "source": [
    "#We now convert the 6 bins of Alc freq to 3 \n",
    "df['1558-2.0']= df['1558-2.0'].replace(['1.0','2.0'],'1.0') #Never/ Special -> Rarely\n",
    "df['1558-2.0']= df['1558-2.0'].replace(['3.0','4.0'],'2.0') #One to 3 month/ one or two week -> ocassional drinkers\n",
    "df['1558-2.0']= df['1558-2.0'].replace(['5.0','6.0'],'3.0') #3 to 4 week/daily -> frecuent drinkers\n",
    "df['1558-2.0']= df['1558-2.0'].replace(['-3.0'],np.nan) #Not answered"
   ]
  },
  {
   "cell_type": "code",
   "execution_count": 36,
   "id": "3dc6f064",
   "metadata": {},
   "outputs": [],
   "source": [
    "#Adding a duplicate column of SRT and dividing it in 3 categories to perform classifcation\n",
    "df['SRT_right_ear_classification'] = df['20021-2.0']\n",
    "bins = [-12.0, -7.0, -3.0, np.inf]\n",
    "categories = ['1.0', '2.0', '3.0'] #good, medium and bad srt threshold\n",
    "df['SRT_right_ear_classification']= pd.cut(df['SRT_right_ear_classification'], bins, labels = categories)"
   ]
  },
  {
   "cell_type": "code",
   "execution_count": 37,
   "id": "991b4549",
   "metadata": {},
   "outputs": [],
   "source": [
    "df = df.rename(columns={'31-0.0' : 'Sex',\n",
    "                        '21003-2.0' : 'Age',\n",
    "                        \"20021-2.0\" : 'SRT_right_ear',\n",
    "                        \"1558-2.0\" :'Alc_int_freq' ,\n",
    "                        \"25061-2.0\" : 'Mean_FA_fornix',\n",
    "                        '26521-2.0': 'Total_brain_volume',\n",
    "                        '54-2.0': 'Site',\n",
    "                       })"
   ]
  },
  {
   "cell_type": "code",
   "execution_count": 39,
   "id": "7d1279c7",
   "metadata": {},
   "outputs": [
    {
     "data": {
      "text/html": [
       "<div>\n",
       "<style scoped>\n",
       "    .dataframe tbody tr th:only-of-type {\n",
       "        vertical-align: middle;\n",
       "    }\n",
       "\n",
       "    .dataframe tbody tr th {\n",
       "        vertical-align: top;\n",
       "    }\n",
       "\n",
       "    .dataframe thead th {\n",
       "        text-align: right;\n",
       "    }\n",
       "</style>\n",
       "<table border=\"1\" class=\"dataframe\">\n",
       "  <thead>\n",
       "    <tr style=\"text-align: right;\">\n",
       "      <th></th>\n",
       "      <th>sex</th>\n",
       "      <th>age</th>\n",
       "      <th>srt_right_ear</th>\n",
       "      <th>alc_int_freq</th>\n",
       "      <th>mean_fa_fornix</th>\n",
       "      <th>mood_disorder</th>\n",
       "      <th>srt_right_ear_classification</th>\n",
       "      <th>total_brain_volume</th>\n",
       "      <th>site</th>\n",
       "    </tr>\n",
       "    <tr>\n",
       "      <th>subjectID</th>\n",
       "      <th></th>\n",
       "      <th></th>\n",
       "      <th></th>\n",
       "      <th></th>\n",
       "      <th></th>\n",
       "      <th></th>\n",
       "      <th></th>\n",
       "      <th></th>\n",
       "      <th></th>\n",
       "    </tr>\n",
       "  </thead>\n",
       "  <tbody>\n",
       "    <tr>\n",
       "      <th>1000014</th>\n",
       "      <td>0.0</td>\n",
       "      <td>61.0</td>\n",
       "      <td>-6.0</td>\n",
       "      <td>0.0</td>\n",
       "      <td>0.390485</td>\n",
       "      <td>0.0</td>\n",
       "      <td>1.0</td>\n",
       "      <td>1544240.0</td>\n",
       "      <td>0.0</td>\n",
       "    </tr>\n",
       "    <tr>\n",
       "      <th>1000023</th>\n",
       "      <td>1.0</td>\n",
       "      <td>66.0</td>\n",
       "      <td>-5.5</td>\n",
       "      <td>0.0</td>\n",
       "      <td>0.440859</td>\n",
       "      <td>0.0</td>\n",
       "      <td>1.0</td>\n",
       "      <td>1496460.0</td>\n",
       "      <td>0.0</td>\n",
       "    </tr>\n",
       "    <tr>\n",
       "      <th>1000030</th>\n",
       "      <td>0.0</td>\n",
       "      <td>65.0</td>\n",
       "      <td>-6.0</td>\n",
       "      <td>2.0</td>\n",
       "      <td>0.367080</td>\n",
       "      <td>0.0</td>\n",
       "      <td>1.0</td>\n",
       "      <td>1492910.0</td>\n",
       "      <td>0.0</td>\n",
       "    </tr>\n",
       "    <tr>\n",
       "      <th>1000041</th>\n",
       "      <td>NaN</td>\n",
       "      <td>NaN</td>\n",
       "      <td>NaN</td>\n",
       "      <td>NaN</td>\n",
       "      <td>NaN</td>\n",
       "      <td>NaN</td>\n",
       "      <td>NaN</td>\n",
       "      <td>NaN</td>\n",
       "      <td>NaN</td>\n",
       "    </tr>\n",
       "    <tr>\n",
       "      <th>1000059</th>\n",
       "      <td>NaN</td>\n",
       "      <td>NaN</td>\n",
       "      <td>NaN</td>\n",
       "      <td>NaN</td>\n",
       "      <td>NaN</td>\n",
       "      <td>NaN</td>\n",
       "      <td>NaN</td>\n",
       "      <td>NaN</td>\n",
       "      <td>NaN</td>\n",
       "    </tr>\n",
       "    <tr>\n",
       "      <th>...</th>\n",
       "      <td>...</td>\n",
       "      <td>...</td>\n",
       "      <td>...</td>\n",
       "      <td>...</td>\n",
       "      <td>...</td>\n",
       "      <td>...</td>\n",
       "      <td>...</td>\n",
       "      <td>...</td>\n",
       "      <td>...</td>\n",
       "    </tr>\n",
       "    <tr>\n",
       "      <th>5824877</th>\n",
       "      <td>1.0</td>\n",
       "      <td>81.0</td>\n",
       "      <td>4.0</td>\n",
       "      <td>1.0</td>\n",
       "      <td>0.320599</td>\n",
       "      <td>0.0</td>\n",
       "      <td>2.0</td>\n",
       "      <td>1730900.0</td>\n",
       "      <td>0.0</td>\n",
       "    </tr>\n",
       "    <tr>\n",
       "      <th>5838702</th>\n",
       "      <td>0.0</td>\n",
       "      <td>66.0</td>\n",
       "      <td>-8.0</td>\n",
       "      <td>0.0</td>\n",
       "      <td>NaN</td>\n",
       "      <td>0.0</td>\n",
       "      <td>0.0</td>\n",
       "      <td>1386490.0</td>\n",
       "      <td>0.0</td>\n",
       "    </tr>\n",
       "    <tr>\n",
       "      <th>5846234</th>\n",
       "      <td>0.0</td>\n",
       "      <td>57.0</td>\n",
       "      <td>-3.5</td>\n",
       "      <td>2.0</td>\n",
       "      <td>NaN</td>\n",
       "      <td>0.0</td>\n",
       "      <td>1.0</td>\n",
       "      <td>1277430.0</td>\n",
       "      <td>0.0</td>\n",
       "    </tr>\n",
       "    <tr>\n",
       "      <th>5895945</th>\n",
       "      <td>0.0</td>\n",
       "      <td>75.0</td>\n",
       "      <td>-4.5</td>\n",
       "      <td>0.0</td>\n",
       "      <td>NaN</td>\n",
       "      <td>0.0</td>\n",
       "      <td>1.0</td>\n",
       "      <td>1411350.0</td>\n",
       "      <td>0.0</td>\n",
       "    </tr>\n",
       "    <tr>\n",
       "      <th>5953087</th>\n",
       "      <td>1.0</td>\n",
       "      <td>56.0</td>\n",
       "      <td>-3.5</td>\n",
       "      <td>1.0</td>\n",
       "      <td>0.514863</td>\n",
       "      <td>0.0</td>\n",
       "      <td>1.0</td>\n",
       "      <td>1368020.0</td>\n",
       "      <td>0.0</td>\n",
       "    </tr>\n",
       "  </tbody>\n",
       "</table>\n",
       "<p>40682 rows × 9 columns</p>\n",
       "</div>"
      ],
      "text/plain": [
       "           sex   age  srt_right_ear  alc_int_freq  mean_fa_fornix  \\\n",
       "subjectID                                                           \n",
       "1000014    0.0  61.0           -6.0           0.0        0.390485   \n",
       "1000023    1.0  66.0           -5.5           0.0        0.440859   \n",
       "1000030    0.0  65.0           -6.0           2.0        0.367080   \n",
       "1000041    NaN   NaN            NaN           NaN             NaN   \n",
       "1000059    NaN   NaN            NaN           NaN             NaN   \n",
       "...        ...   ...            ...           ...             ...   \n",
       "5824877    1.0  81.0            4.0           1.0        0.320599   \n",
       "5838702    0.0  66.0           -8.0           0.0             NaN   \n",
       "5846234    0.0  57.0           -3.5           2.0             NaN   \n",
       "5895945    0.0  75.0           -4.5           0.0             NaN   \n",
       "5953087    1.0  56.0           -3.5           1.0        0.514863   \n",
       "\n",
       "           mood_disorder  srt_right_ear_classification  total_brain_volume  \\\n",
       "subjectID                                                                    \n",
       "1000014              0.0                           1.0           1544240.0   \n",
       "1000023              0.0                           1.0           1496460.0   \n",
       "1000030              0.0                           1.0           1492910.0   \n",
       "1000041              NaN                           NaN                 NaN   \n",
       "1000059              NaN                           NaN                 NaN   \n",
       "...                  ...                           ...                 ...   \n",
       "5824877              0.0                           2.0           1730900.0   \n",
       "5838702              0.0                           0.0           1386490.0   \n",
       "5846234              0.0                           1.0           1277430.0   \n",
       "5895945              0.0                           1.0           1411350.0   \n",
       "5953087              0.0                           1.0           1368020.0   \n",
       "\n",
       "           site  \n",
       "subjectID        \n",
       "1000014     0.0  \n",
       "1000023     0.0  \n",
       "1000030     0.0  \n",
       "1000041     NaN  \n",
       "1000059     NaN  \n",
       "...         ...  \n",
       "5824877     0.0  \n",
       "5838702     0.0  \n",
       "5846234     0.0  \n",
       "5895945     0.0  \n",
       "5953087     0.0  \n",
       "\n",
       "[40682 rows x 9 columns]"
      ]
     },
     "execution_count": 39,
     "metadata": {},
     "output_type": "execute_result"
    }
   ],
   "source": [
    "dataset.add_var_to_h5(df, 'Sex', typ='lbl', viz=False)\n",
    "dataset.add_var_to_h5(df, 'Age', typ='lbl', viz=False)\n",
    "dataset.add_var_to_h5(df, 'SRT_right_ear', typ='lbl', viz=False)\n",
    "dataset.add_var_to_h5(df, 'Alc_int_freq', typ='lbl', viz=False)\n",
    "dataset.add_var_to_h5(df, 'Mean_FA_fornix', typ='lbl', viz=False)\n",
    "dataset.add_var_to_h5(df, 'mood_disorder', typ='lbl', viz=False)\n",
    "dataset.add_var_to_h5(df, 'SRT_right_ear_classification', typ='lbl', viz=False)\n",
    "dataset.add_var_to_h5(df, 'Total_brain_volume', typ='lbl', viz=False)\n",
    "dataset.add_var_to_h5(df, 'Site', typ='lbl', viz=False)"
   ]
  },
  {
   "cell_type": "code",
   "execution_count": 40,
   "id": "45ed5de2",
   "metadata": {},
   "outputs": [],
   "source": [
    "#dataset.df_h5 = dataset.df_h5.sample(40682)"
   ]
  },
  {
   "cell_type": "code",
   "execution_count": 41,
   "id": "a8900d9c",
   "metadata": {},
   "outputs": [
    {
     "name": "stdout",
     "output_type": "stream",
     "text": [
      "n=25990 after dropping subjects with NaN\n"
     ]
    }
   ],
   "source": [
    "dataset.prepare_X(mri_col='path_T1_MNI')"
   ]
  },
  {
   "cell_type": "code",
   "execution_count": null,
   "id": "22d4a7cb",
   "metadata": {},
   "outputs": [],
   "source": [
    "#%%time  ### ! I had a problem here because of the slugfy and file names are not properly set up\n",
    "dataset.save_h5(filename_prefix=\"5tasks35k\", mri_kwargs={'z_factor':(0.525)})"
   ]
  },
  {
   "cell_type": "code",
   "execution_count": null,
   "id": "fc54ceda-ece0-446a-bdb7-f89961adcb9d",
   "metadata": {},
   "outputs": [],
   "source": [
    "def copy_h5_mooddisorder(H5_DIR, src_h5, out_h5, h5filesize_mood_dis, h5filesize_healthy):\n",
    "\n",
    "    ##### Fuction that creates a copy of h5file with the amount of subjects you want of each class, could be adapt to be more general\n",
    "    \n",
    "    with h5py.File('/ritter/share/projects/gonzalo/h5files/h5files5tasks35k.h5', 'r') as f:\n",
    "        my_array = f['mood_disorder'][()]\n",
    "    \n",
    "        \n",
    "    index_mood_dis_ = np.argwhere(my_array==True)\n",
    "    indices = np.random.choice(range(len(index_mood_dis_)), replace=False, size=h5filesize_mood_dis)\n",
    "    index_mood_dis = np.array(index_mood_dis_)[indices.astype(int)]\n",
    "    index_mood_dis = np.sort(np.concatenate(index_mood_dis))\n",
    "\n",
    "    index_healthy_ = np.argwhere(my_array==False)\n",
    "    indices = np.random.choice(range(len(index_healthy_)), replace=False, size=h5filesize_healthy)\n",
    "    index_healthy = np.array(index_healthy_)[indices.astype(int)]\n",
    "    index_healthy = np.sort(np.concatenate(index_healthy))\n",
    "    \n",
    "    index = np.sort(np.concatenate((index_mood_dis,index_healthy)))\n",
    "    h5filesize = h5filesize_mood_dis + h5filesize_healthy\n",
    "    \n",
    "    print(\"writing to ..\", out_h5)\n",
    "    with h5py.File(H5_DIR + out_h5, 'w') as data_out:\n",
    "  \n",
    "        with h5py.File(H5_DIR + src_h5, 'r') as data_src:\n",
    "            for dataset in data_src:\n",
    "                data_out.create_dataset(dataset, data=data_src[dataset][index][:h5filesize])\n",
    "            for attr in data_src.attrs:\n",
    "                data_out.attrs[attr] =data_src.attrs[attr]"
   ]
  },
  {
   "cell_type": "code",
   "execution_count": null,
   "id": "ef9f3cab-4580-4fd0-a4d4-09dfc7faa231",
   "metadata": {},
   "outputs": [],
   "source": [
    "copy_h5_mooddisorder(\"/ritter/share/projects/gonzalo/h5files/\", \"h5files5tasks35k.h5\",  \"h5files5tasks250_moodbalanced.h5\", 75, 175)copy_h5_mooddisorder(\"/ritter/share/projects/gonzalo/h5files/\", \"h5files5tasks35k.h5\",  \"h5files5tasks250_moodbalanced.h5\", 75, 175)"
   ]
  },
  {
   "cell_type": "code",
   "execution_count": null,
   "id": "f0292d57-4389-42fe-972d-57103b301f8e",
   "metadata": {},
   "outputs": [],
   "source": [
    "sys.path.insert(0,\"../ML_for_alcohol_misuse/helper\")\n",
    "from dataloader_utils import show_h5_contents\n",
    "show_h5_contents(\n",
    "    [\"/ritter/share/projects/gonzalo/h5files/h5files5tasks250_moodbalanced.h5\"],\n",
    ")"
   ]
  }
 ],
 "metadata": {
  "kernelspec": {
   "display_name": "Python 3 (ipykernel)",
   "language": "python",
   "name": "python3"
  },
  "language_info": {
   "codemirror_mode": {
    "name": "ipython",
    "version": 3
   },
   "file_extension": ".py",
   "mimetype": "text/x-python",
   "name": "python",
   "nbconvert_exporter": "python",
   "pygments_lexer": "ipython3",
   "version": "3.10.4"
  }
 },
 "nbformat": 4,
 "nbformat_minor": 5
}
